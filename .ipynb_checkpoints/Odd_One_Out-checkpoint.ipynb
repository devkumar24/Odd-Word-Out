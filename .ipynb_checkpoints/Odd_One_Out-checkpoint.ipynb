{
 "cells": [
  {
   "cell_type": "code",
   "execution_count": 1,
   "metadata": {},
   "outputs": [],
   "source": [
    "import gensim\n",
    "import numpy as np\n",
    "from sklearn.metrics.pairwise import cosine_similarity\n",
    "from gensim.models import KeyedVectors\n",
    "import pandas as pd"
   ]
  },
  {
   "cell_type": "code",
   "execution_count": 2,
   "metadata": {},
   "outputs": [],
   "source": [
    "word2vec = KeyedVectors.load_word2vec_format(\"GoogleNews-vectors-negative300.bin.gz\",binary = True)"
   ]
  },
  {
   "cell_type": "code",
   "execution_count": 69,
   "metadata": {},
   "outputs": [],
   "source": [
    "# class of color to use in print statement\n",
    "class color:\n",
    "   PURPLE = '\\033[95m'\n",
    "   CYAN = '\\033[96m'\n",
    "   DARKCYAN = '\\033[36m'\n",
    "   BLUE = '\\033[94m'\n",
    "   GREEN = '\\033[92m'\n",
    "   YELLOW = '\\033[93m'\n",
    "   RED = '\\033[91m'\n",
    "   BOLD = '\\033[1m'\n",
    "   UNDERLINE = '\\033[4m'\n",
    "   END = '\\033[0m'"
   ]
  },
  {
   "cell_type": "markdown",
   "metadata": {},
   "source": [
    "# Odd Word Out"
   ]
  },
  {
   "cell_type": "code",
   "execution_count": 3,
   "metadata": {},
   "outputs": [],
   "source": [
    "# function to predict odd word out\n",
    "def odd_word_out(words):\n",
    "    # iterate over all words and make lower\n",
    "    for w in words:\n",
    "        w.lower()\n",
    "    \n",
    "    # make every word in (300,) dim unique vector using word2vec file\n",
    "    words_vector = [word2vec[w] for w in words]\n",
    "    \n",
    "    # take mean of all words vector to compare similarity between words\n",
    "    all_words_mean = np.mean(words_vector, axis=0)\n",
    "    \n",
    "    similarity = {}\n",
    "    rev_similarity = {}\n",
    "    \n",
    "    for w in words:\n",
    "        \n",
    "        # make a dictionary of words and add there cosine similarity with mean of all words\n",
    "        similarity[w] = {}\n",
    "        similarity[w] = cosine_similarity([all_words_mean],[word2vec[w]])\n",
    "        \n",
    "        # make a reverse dict of similarity\n",
    "        rev_similarity[float(cosine_similarity([all_words_mean],[word2vec[w]]))] = {}\n",
    "        rev_similarity[float(cosine_similarity([all_words_mean],[word2vec[w]]))] = w\n",
    "    \n",
    "    # we have minimum of similarity because higher the cosine similarity more the words are nearly\n",
    "    # related to each other and vice-verse.\n",
    "    # To Understand this ***READ ABOUT WORD2VEC AND COSINE SIMILARITY***\n",
    "    odd_word = min(similarity.values())\n",
    "    \n",
    "    # return the odd word from dictionary\n",
    "    return rev_similarity[float(odd_word)]"
   ]
  },
  {
   "cell_type": "code",
   "execution_count": 4,
   "metadata": {},
   "outputs": [
    {
     "data": {
      "text/plain": [
       "'banana'"
      ]
     },
     "execution_count": 4,
     "metadata": {},
     "output_type": "execute_result"
    }
   ],
   "source": [
    "odd_word_out([\"pakistan\",\"china\",\"banana\",\"india\"])"
   ]
  },
  {
   "cell_type": "code",
   "execution_count": 138,
   "metadata": {},
   "outputs": [],
   "source": [
    "def predict(filename = None, words = None):\n",
    "    # Check if either filename is entered or not // or words are entered or not \n",
    "    # if true then if statement is executed raise error.\n",
    "    if filename == None and words == None:\n",
    "        \n",
    "        try:\n",
    "            pass\n",
    "        \n",
    "        except NameError:\n",
    "            print(\"Enter Correct filename or words!\")\n",
    "        # My own Created Error, A basic Error with no given suggestions.\n",
    "        else:\n",
    "            print(color.RED + \"NoInputError\" + color.END + \" :\")\n",
    "            print(\"\\tNeither of Filename is Entered nor Words,\\n\\tEnter Either \" + color.PURPLE + \"Words\"+ color.END + \" or \" +  color.PURPLE + \"Filename\"+ color.END)\n",
    "            \n",
    "    else:\n",
    "        # If filename is entered (filename should be in .csv format \n",
    "        # and in a single row only words should be entered and especially all words\n",
    "        # are in lower format)\n",
    "        if filename!= None:\n",
    "                # read file\n",
    "                file = pd.read_csv(filename)\n",
    "                # make list of odd one out words\n",
    "                odd_one_out = []\n",
    "                for i in range(len(file)):\n",
    "                    \n",
    "                    words = file.loc[i]\n",
    "                    # odd_word_out function is called \n",
    "                    # and odd_word is the output of the function and tells the odd word \n",
    "                    odd_word = odd_word_out(words)\n",
    "                    # append all odd words entered in a file\n",
    "                    odd_one_out.append(odd_word)\n",
    "                    # printing all words with there correspinding odd words\n",
    "                    all_words = []\n",
    "                    for w in words:\n",
    "                        all_words.append(w)\n",
    "                    print(\"{}. The words are: {}\\n   The odd one out is: {}\\n\".format(i+1,color.YELLOW + \", \".join(all_words) + color.END,color.RED + odd_word + color.END))\n",
    "                # return list of odd words to make odd words file, and if not requirs, then it is useless.\n",
    "                return odd_one_out\n",
    "        # if words are entered instead of filename and remember words are in lower case.\n",
    "        else:\n",
    "            # same as above\n",
    "            odd_word = odd_word_out(words)\n",
    "            print(\"The words are: {}\\n   The odd one out is: {}\\n\".format(color.YELLOW + \", \".join(words) + color.END,color.RED + odd_word + color.END))\n",
    "            return odd_word"
   ]
  },
  {
   "cell_type": "code",
   "execution_count": 122,
   "metadata": {},
   "outputs": [
    {
     "name": "stdout",
     "output_type": "stream",
     "text": [
      "1. The words are: \u001b[93melephant, lion, tiger, goat, snake\u001b[0m\n",
      "   The odd one out is: \u001b[91msnake\u001b[0m\n",
      "\n",
      "2. The words are: \u001b[93mman, policeman, fireman, teacher, postman\u001b[0m\n",
      "   The odd one out is: \u001b[91mteacher\u001b[0m\n",
      "\n",
      "3. The words are: \u001b[93mplane, bird, rocket, balloon, cat\u001b[0m\n",
      "   The odd one out is: \u001b[91mcat\u001b[0m\n",
      "\n",
      "4. The words are: \u001b[93monion, celery, lettuce, pineapple, potato\u001b[0m\n",
      "   The odd one out is: \u001b[91mpineapple\u001b[0m\n",
      "\n",
      "5. The words are: \u001b[93mIndia, football, hockey, cricket, swimming\u001b[0m\n",
      "   The odd one out is: \u001b[91mIndia\u001b[0m\n",
      "\n",
      "6. The words are: \u001b[93mwho, why, what, where, is\u001b[0m\n",
      "   The odd one out is: \u001b[91mis\u001b[0m\n",
      "\n",
      "7. The words are: \u001b[93mon, in, over, their, was\u001b[0m\n",
      "   The odd one out is: \u001b[91mwas\u001b[0m\n",
      "\n",
      "8. The words are: \u001b[93mIndia, Australia, Japan, Russia, China\u001b[0m\n",
      "   The odd one out is: \u001b[91mAustralia\u001b[0m\n",
      "\n",
      "9. The words are: \u001b[93mDollar, Rupees, Euros, Cents, Money\u001b[0m\n",
      "   The odd one out is: \u001b[91mMoney\u001b[0m\n",
      "\n",
      "10. The words are: \u001b[93meat, sleep, drink, think, dance\u001b[0m\n",
      "   The odd one out is: \u001b[91mthink\u001b[0m\n",
      "\n",
      "11. The words are: \u001b[93mcar, scooter, bike, bicycle, ship\u001b[0m\n",
      "   The odd one out is: \u001b[91mship\u001b[0m\n",
      "\n",
      "12. The words are: \u001b[93mPoland, Russia, England, Rome, Ukraine\u001b[0m\n",
      "   The odd one out is: \u001b[91mRome\u001b[0m\n",
      "\n",
      "13. The words are: \u001b[93mLake, Sea, River, Pool, Pond\u001b[0m\n",
      "   The odd one out is: \u001b[91mPool\u001b[0m\n",
      "\n",
      "14. The words are: \u001b[93mSun, Moon, Star, Mars, Egypt\u001b[0m\n",
      "   The odd one out is: \u001b[91mEgypt\u001b[0m\n",
      "\n",
      "15. The words are: \u001b[93mfox, wolf, jackal, mouse, panther\u001b[0m\n",
      "   The odd one out is: \u001b[91mmouse\u001b[0m\n",
      "\n",
      "16. The words are: \u001b[93mveil, turban, helmet, shirt, hat\u001b[0m\n",
      "   The odd one out is: \u001b[91mhelmet\u001b[0m\n",
      "\n",
      "17. The words are: \u001b[93mPhysics, Chemistry, Geography, Botany, Universe\u001b[0m\n",
      "   The odd one out is: \u001b[91mUniverse\u001b[0m\n",
      "\n",
      "18. The words are: \u001b[93mAssassinate, Kill, Kidnap, Stab, Murder\u001b[0m\n",
      "   The odd one out is: \u001b[91mKill\u001b[0m\n",
      "\n",
      "19. The words are: \u001b[93mHostel, Hotel, Inn, Club, Motel\u001b[0m\n",
      "   The odd one out is: \u001b[91mClub\u001b[0m\n",
      "\n",
      "20. The words are: \u001b[93mEarth, Mars, Neptune, Pluto, Sun\u001b[0m\n",
      "   The odd one out is: \u001b[91mSun\u001b[0m\n",
      "\n"
     ]
    }
   ],
   "source": [
    "words = predict(\"Test.csv\")"
   ]
  },
  {
   "cell_type": "code",
   "execution_count": 123,
   "metadata": {},
   "outputs": [
    {
     "data": {
      "text/plain": [
       "['snake',\n",
       " 'teacher',\n",
       " 'cat',\n",
       " 'pineapple',\n",
       " 'India',\n",
       " 'is',\n",
       " 'was',\n",
       " 'Australia',\n",
       " 'Money',\n",
       " 'think',\n",
       " 'ship',\n",
       " 'Rome',\n",
       " 'Pool',\n",
       " 'Egypt',\n",
       " 'mouse',\n",
       " 'helmet',\n",
       " 'Universe',\n",
       " 'Kill',\n",
       " 'Club',\n",
       " 'Sun']"
      ]
     },
     "execution_count": 123,
     "metadata": {},
     "output_type": "execute_result"
    }
   ],
   "source": [
    "words"
   ]
  },
  {
   "cell_type": "code",
   "execution_count": 128,
   "metadata": {},
   "outputs": [],
   "source": [
    "submission_file = pd.DataFrame(data = words, columns=[\"OddOne\"])"
   ]
  },
  {
   "cell_type": "code",
   "execution_count": 134,
   "metadata": {},
   "outputs": [],
   "source": [
    "submission_file.to_csv(\"odd_words.csv\",index=False)"
   ]
  },
  {
   "cell_type": "code",
   "execution_count": null,
   "metadata": {},
   "outputs": [],
   "source": []
  }
 ],
 "metadata": {
  "kernelspec": {
   "display_name": "Python 3",
   "language": "python",
   "name": "python3"
  },
  "language_info": {
   "codemirror_mode": {
    "name": "ipython",
    "version": 3
   },
   "file_extension": ".py",
   "mimetype": "text/x-python",
   "name": "python",
   "nbconvert_exporter": "python",
   "pygments_lexer": "ipython3",
   "version": "3.7.7"
  }
 },
 "nbformat": 4,
 "nbformat_minor": 4
}
